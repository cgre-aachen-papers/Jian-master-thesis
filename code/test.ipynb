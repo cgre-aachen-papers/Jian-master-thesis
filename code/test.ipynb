{
 "cells": [
  {
   "cell_type": "code",
   "execution_count": 1,
   "source": [
    "from external import *\r\n",
    "import numpy as np\r\n",
    "import matplotlib.pyplot as plt"
   ],
   "outputs": [],
   "metadata": {}
  },
  {
   "cell_type": "code",
   "execution_count": 2,
   "source": [
    "# input data\r\n",
    "\r\n",
    "## defining the dips position\r\n",
    "G_1 = np.array([[6,8],[11,8],[19,7],[18,6],[14,4],[1,3],[3,2],[14,1]])\r\n",
    "\r\n",
    "G_1_o = np.array([[1,1.7],[-1,2],[1,1],[1,1],[-1,1.2],[1,0.5],[1,0.5],[-1,1]])\r\n",
    "\r\n",
    "## defining interface data\r\n",
    "layer1 = np.array([[2,4],[15,2]])\r\n",
    "layer2 = np.array([[2,9],[10,7],[18,8]])\r\n",
    "\r\n",
    "## deining range\r\n",
    "a_T = 15\r\n",
    "\r\n",
    "## defining control points\r\n",
    "con_p = np.array([[1,5],[5,7],[10,5]])"
   ],
   "outputs": [],
   "metadata": {}
  },
  {
   "cell_type": "code",
   "execution_count": 6,
   "source": [
    "k = external_kriging(G_1,G_1_o,layer1,layer2,a_T,con_p)\r\n",
    "\r\n",
    "print(k.get_intp)\r\n"
   ],
   "outputs": [
    {
     "output_type": "stream",
     "name": "stdout",
     "text": [
      "<bound method external_kriging.get_intp of <external.external_kriging object at 0x00000236D593C988>>\n"
     ]
    }
   ],
   "metadata": {}
  }
 ],
 "metadata": {
  "orig_nbformat": 4,
  "language_info": {
   "name": "python",
   "version": "3.7.9",
   "mimetype": "text/x-python",
   "codemirror_mode": {
    "name": "ipython",
    "version": 3
   },
   "pygments_lexer": "ipython3",
   "nbconvert_exporter": "python",
   "file_extension": ".py"
  },
  "kernelspec": {
   "name": "python3",
   "display_name": "Python 3.7.9 64-bit ('gempy': conda)"
  },
  "interpreter": {
   "hash": "facd50c41545fc0ef5bc10a19ec2ca01688088a5c66dbac0a712adc2a31ae776"
  }
 },
 "nbformat": 4,
 "nbformat_minor": 2
}